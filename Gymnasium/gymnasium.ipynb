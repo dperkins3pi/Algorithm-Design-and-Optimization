{
 "cells": [
  {
   "cell_type": "markdown",
   "metadata": {
    "id": "xQ1tKnrK4TcN"
   },
   "source": [
    "\n",
    "# Volume 2: Gymnasium\n",
    "\n"
   ]
  },
  {
   "cell_type": "markdown",
   "metadata": {
    "id": "3qbA8CjB3_IL"
   },
   "source": [
    "Danny Perkins\n",
    "MATH 323\n",
    "2/15/24\n",
    "\n",
    "\n",
    "\n"
   ]
  },
  {
   "cell_type": "code",
   "execution_count": 1,
   "metadata": {
    "id": "ZlMKi7Fx35TI"
   },
   "outputs": [],
   "source": [
    "import gymnasium as gym\n",
    "import numpy as np\n",
    "import random\n",
    "from matplotlib import pyplot as plt\n",
    "from IPython import display"
   ]
  },
  {
   "cell_type": "markdown",
   "metadata": {
    "id": "W-rNQLwd429z"
   },
   "source": [
    "# Problem 1\n",
    "\n",
    "*   Implement `random_blackjack()`.\n",
    "*   Run the game 50,000 times and print the percentage of games won.\n",
    "\n"
   ]
  },
  {
   "cell_type": "code",
   "execution_count": 53,
   "metadata": {
    "id": "lrhUolvq45vh"
   },
   "outputs": [],
   "source": [
    "# Problem 1\n",
    "def random_blackjack(n):\n",
    "    \"\"\" Play a random game of Blackjack. Determine the percentage \n",
    "        the player wins out of n times.\n",
    "    Parameters:\n",
    "        n (int): number of iterations\n",
    "    Returns:\n",
    "        percent (float): percentage that the player wins\n",
    "    \"\"\"\n",
    "    wins = 0  # to store the number of wins\n",
    "    for i in range(n):\n",
    "        done = False # game is not done at start\n",
    "        env = gym.make('Blackjack-v1')  # Initialize environment\n",
    "        env.reset()    # Reset enviornment\n",
    "        while not done:   # Make actions until the game is done\n",
    "            random_action = env.action_space.sample()  # Select a random action\n",
    "            obs, reward, done, trunc, info = env.step(random_action)  # perform the action\n",
    "            if reward == 1.: wins += 1\n",
    "    env.close()   # close it\n",
    "    return wins / n  # return win percentage"
   ]
  },
  {
   "cell_type": "code",
   "execution_count": 54,
   "metadata": {
    "id": "JF-bS3gyIx4k"
   },
   "outputs": [
    {
     "name": "stdout",
     "output_type": "stream",
     "text": [
      "0.28318\n"
     ]
    }
   ],
   "source": [
    "print(random_blackjack(50000))  # Print win percentage after 50,000 games"
   ]
  },
  {
   "cell_type": "markdown",
   "metadata": {
    "id": "xfZPCIMC5JmB"
   },
   "source": [
    "# Problem 2\n",
    "\n",
    "* Implement `blackjack()`.\n",
    "* For `n` = 1, 2, ..., 21, plot the win percentage after 10,000 games of Blackjack.\n",
    "* Identify which value(s) of `n` gives the highest win rate."
   ]
  },
  {
   "cell_type": "code",
   "execution_count": 197,
   "metadata": {
    "id": "6Uv7AD8I5LWk"
   },
   "outputs": [],
   "source": [
    "# Problem 2\n",
    "def blackjack(n=11):\n",
    "    \"\"\" Play blackjack with naive algorithm.\n",
    "    Parameters:\n",
    "        n (int): maximum accepted player hand\n",
    "    Return:\n",
    "        percent (float): percentage wins over 10000 iterations\n",
    "    \"\"\"\n",
    "    wins = 0  # to store the number of wins\n",
    "    N = 10000  # Will run it 10000 times\n",
    "    for i in range(N):\n",
    "        done = False # game is not done at start\n",
    "        env = gym.make('Blackjack-v1')  # Initialize environment\n",
    "        sum = env.reset()[0][0]    # Reset enviornment and store the sum\n",
    "        while not done:   # Make actions until the game is done\n",
    "            if sum <= n: \n",
    "                action = 1  # If less than n, draw another card\n",
    "            else: action = 0\n",
    "            obs, reward, done, trunc, info = env.step(action)  # perform the action\n",
    "            sum = obs[0]   # Set new sum attribute\n",
    "            if reward == 1.: wins += 1   # Add to win total\n",
    "        env.close()   # close it\n",
    "    return wins / N # return win percentage"
   ]
  },
  {
   "cell_type": "code",
   "execution_count": 200,
   "metadata": {
    "id": "miBtqMaVIjFJ"
   },
   "outputs": [
    {
     "name": "stdout",
     "output_type": "stream",
     "text": [
      "The value of n that wins the most is: 13\n"
     ]
    },
    {
     "data": {
      "image/png": "[encoded data removed]",
      "text/plain": [
       "<Figure size 432x288 with 1 Axes>"
      ]
     },
     "metadata": {
      "needs_background": "light"
     },
     "output_type": "display_data"
    }
   ],
   "source": [
    "ns = np.arange(1, 22)\n",
    "win_rates = []\n",
    "\n",
    "for n in ns:   # calculate win rate for each n\n",
    "    win_rate = blackjack(n=n)\n",
    "    win_rates.append(win_rate)\n",
    "\n",
    "print(\"The value of n that wins the most is:\", np.argmax(win_rates) + 1)\n",
    "\n",
    "# Plot it\n",
    "plt.plot(ns, win_rates)\n",
    "plt.xlabel(\"n\")\n",
    "plt.ylabel(\"Win rate\")\n",
    "plt.title(\"Win rate for black jack\")\n",
    "plt.show()\n"
   ]
  },
  {
   "cell_type": "markdown",
   "metadata": {
    "id": "lY8vR6Ygxxk-"
   },
   "source": [
    "*Identify which value(s) give the highest win-rate here*\n",
    "\n",
    "The value of n with the highest win rate is 13\n",
    "\n",
    "I was surprised to see that it makes a minimal difference as n increases to 13. But, after, the win rate dramatically decreases. This is probably because the game already starts with a few cards."
   ]
  },
  {
   "cell_type": "markdown",
   "metadata": {
    "id": "i9xB1KaZ5OJ3"
   },
   "source": [
    "# Problem 3\n",
    "\n",
    "* Implement `cartpole()`.\n",
    "* Render the game and run your function once.\n",
    "* Run Cartpole 100 times (without rendering) and print out the average number of steps before it terminates."
   ]
  },
  {
   "cell_type": "code",
   "execution_count": null,
   "metadata": {
    "id": "AGEUkBOx5Qbk"
   },
   "outputs": [],
   "source": [
    "# Problem 3\n",
    "def cartpole(render=False):\n",
    "    \"\"\" Solve CartPole-v1 by checking the velocity of the tip \n",
    "        of the pole.\n",
    "    Parameters: \n",
    "        render (bool): If True, render environment at each step\n",
    "    Return:\n",
    "        iterations (integer): number of steps or iterations\n",
    "                              to solve the environment\n",
    "    \"\"\"\n",
    "    raise NotImplementedError(\"Problem 3 Incomplete\")"
   ]
  },
  {
   "cell_type": "code",
   "execution_count": null,
   "metadata": {
    "id": "78iSdRs6wZKb"
   },
   "outputs": [],
   "source": [
    "# Render the game and run once here"
   ]
  },
  {
   "cell_type": "code",
   "execution_count": null,
   "metadata": {
    "id": "EaNbYfsuIhxN"
   },
   "outputs": [],
   "source": [
    "# Run the game here and print average steps to termination"
   ]
  },
  {
   "cell_type": "markdown",
   "metadata": {
    "id": "TPFFk0nX5U_b"
   },
   "source": [
    "# Problem 4\n",
    "\n",
    "* Implement `car()`.\n",
    "* Render the game and run your function once.\n",
    "* Run MountainCar 100 times (without rendering) and print out the average number of steps before it terminates."
   ]
  },
  {
   "cell_type": "code",
   "execution_count": null,
   "metadata": {
    "id": "Lqq3Q6EO5Wgq"
   },
   "outputs": [],
   "source": [
    "# Problem 4\n",
    "def car(render=False):\n",
    "    \"\"\" Solve MountainCar-v0 by checking the position of the car.\n",
    "    Parameters: \n",
    "        render (bool): If True, render environment at each step\n",
    "    Return:\n",
    "        iterations (integer): number of steps or iterations\n",
    "                              to solve the environment\n",
    "    \"\"\"\n",
    "    raise NotImplementedError(\"Problem 4 Incomplete\")"
   ]
  },
  {
   "cell_type": "code",
   "execution_count": null,
   "metadata": {
    "id": "4_kSEBYdwgnc"
   },
   "outputs": [],
   "source": [
    "# Render the game here"
   ]
  },
  {
   "cell_type": "code",
   "execution_count": null,
   "metadata": {
    "id": "fUsBDn6KIgw5"
   },
   "outputs": [],
   "source": [
    "# Run the game here and print average steps to termination"
   ]
  },
  {
   "cell_type": "markdown",
   "metadata": {
    "id": "U5tSd-zE4sHZ"
   },
   "source": [
    "## Helper Function for Problem 5"
   ]
  },
  {
   "cell_type": "code",
   "execution_count": null,
   "metadata": {
    "id": "zNNc3x9x09Zr"
   },
   "outputs": [],
   "source": [
    "def find_qvalues(env, alpha=.1, gamma=.6, epsilon=.1):\n",
    "    \"\"\" Use the Q-learning algorithm to find qvalues.\n",
    "    Parameters:\n",
    "        env (str): environment name\n",
    "        alpha (float): learning rate\n",
    "        gamma (float): discount factor\n",
    "        epsilon (float): maximum value\n",
    "    Returns:\n",
    "        q_table (ndarray nxm)\n",
    "    \"\"\"\n",
    "    env = gym.make(env)  # Make environment\n",
    "    # Make Q-table\n",
    "    q_table = np.zeros((env.observation_space.n, env.action_space.n))\n",
    "\n",
    "    # Train\n",
    "    for i in range(1,100001):\n",
    "        state, info = env.reset()  # Reset state\n",
    "\n",
    "        epochs, penalties, reward, = 0,0,0\n",
    "        done = False\n",
    "        while not done:\n",
    "            # Accept based on epsilon\n",
    "            if random.uniform(0,1) < epsilon:\n",
    "                action = env.action_space.sample()\n",
    "            else:\n",
    "                action = np.argmax(q_table[state])\n",
    "\n",
    "            # Take action\n",
    "            next_state, reward, done, truncated, info = env.step(action)\n",
    "\n",
    "            # Calculate new qvalue\n",
    "            old_value = q_table[state,action]\n",
    "            next_max = np.max(q_table[next_state])\n",
    "\n",
    "            new_value = (1-alpha) * old_value + alpha * (reward + gamma * next_max)\n",
    "            q_table[state, action] = new_value\n",
    "\n",
    "            # Check if penalty is made\n",
    "            if reward == -10:\n",
    "                penalties += 1\n",
    "\n",
    "            # Get next observation\n",
    "            state = next_state\n",
    "            epochs += 1\n",
    "\n",
    "        # Print episode number\n",
    "        if i % 100 == 0:\n",
    "            display.clear_output(wait=True)\n",
    "            print(f\"Episode: {i}\")\n",
    "\n",
    "    env.close()\n",
    "    print(\"Training finished.\")\n",
    "    return q_table"
   ]
  },
  {
   "cell_type": "markdown",
   "metadata": {
    "id": "ZODhO4AS5YQq"
   },
   "source": [
    "# Problem 5\n",
    "\n",
    "* Initialize the \"`Taxi-v3`\" environment (without rendering), act randomly until it terminates, and print the total reward\n",
    "* Render the \"`Taxi-v3`\" environment, use the Q-table to act optimally until it terminates, and print the total reward\n",
    "* Implement `taxi()`, then use it to print the average total reward for each algorithm.\n"
   ]
  },
  {
   "cell_type": "code",
   "execution_count": null,
   "metadata": {
    "id": "e3i-LEnYKHyz"
   },
   "outputs": [],
   "source": [
    "# Random actions Taxi game"
   ]
  },
  {
   "cell_type": "code",
   "execution_count": null,
   "metadata": {
    "id": "0ejXeML7KJSJ"
   },
   "outputs": [],
   "source": [
    "# Q-table actions Taxi game"
   ]
  },
  {
   "cell_type": "code",
   "execution_count": null,
   "metadata": {
    "id": "APK2iYQV5aR4"
   },
   "outputs": [],
   "source": [
    "def taxi(q_table):\n",
    "    \"\"\" Compare naive and q-learning algorithms.\n",
    "    Parameters:\n",
    "        q_table (ndarray nxm): table of qvalues\n",
    "    Returns:\n",
    "        naive (float): mean reward of naive algorithm\n",
    "                       of 1000 runs\n",
    "        q_reward (float): mean reward of Q-learning algorithm\n",
    "                          of 1000 runs\n",
    "    \"\"\"\n",
    "    raise NotImplementedError(\"Problem 5 Incomplete\")"
   ]
  },
  {
   "cell_type": "code",
   "execution_count": null,
   "metadata": {
    "id": "PhS7JR1JKOQu"
   },
   "outputs": [],
   "source": [
    "# Print the average rewards of the Taxi game for both algorithms ran 1000 times"
   ]
  }
 ],
 "metadata": {
  "colab": {
   "collapsed_sections": [],
   "name": "opengym.ipynb",
   "provenance": []
  },
  "kernelspec": {
   "display_name": "Python 3 (ipykernel)",
   "language": "python",
   "name": "python3"
  },
  "language_info": {
   "codemirror_mode": {
    "name": "ipython",
    "version": 3
   },
   "file_extension": ".py",
   "mimetype": "text/x-python",
   "name": "python",
   "nbconvert_exporter": "python",
   "pygments_lexer": "ipython3",
   "version": "3.10.12"
  }
 },
 "nbformat": 4,
 "nbformat_minor": 1
}
