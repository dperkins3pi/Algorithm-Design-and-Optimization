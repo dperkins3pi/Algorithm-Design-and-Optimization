{
    "cells": [
        {
            "cell_type": "code",
            "execution_count": 49,
            "metadata": {},
            "outputs": [],
            "source": [
                "\"\"\"Volume 2: Non-negative Matrix Factorization.\"\"\"\n",
                "\n",
                "import numpy as np\n",
                "import cvxpy as cp\n",
                "from matplotlib import pyplot as plt\n",
                "import os\n",
                "from imageio import imread\n",
                "import warnings\n",
                "warnings.filterwarnings(\"ignore\")\n",
                "\n",
                "from sklearn.decomposition import NMF\n",
                "from sklearn.metrics import mean_squared_error as mse"
            ]
        },
        {
            "cell_type": "code",
            "execution_count": 104,
            "metadata": {},
            "outputs": [],
            "source": [
                "#Problems 1-2\n",
                "class NMFRecommender:\n",
                "\n",
                "    def __init__(self,random_state=15,rank=3,maxiter=200,tol=1e-3):\n",
                "        \"\"\"The parameter values for the algorithm\"\"\"\n",
                "        # Define attributes\n",
                "        self.random_state = random_state\n",
                "        self.k =rank\n",
                "        self.maxiter = maxiter\n",
                "        self.tol = tol\n",
                "        \n",
                "    \n",
                "    def initialize_matrices(self,m,n):\n",
                "        \"\"\"randomly initialize the W and H matrices,\"\"\"\n",
                "        np.random.seed(self.random_state)   # Set random seed\n",
                "        self.W = np.random.random((m, self.k))  # Store as attribute\n",
                "        self.H = np.random.random((self.k, n))\n",
                "        return self.W, self.H   # Return them\n",
                "\n",
                "      \n",
                "    def fit(self,V):\n",
                "        \"\"\"Fits W and H weight matrices using CVXPY\"\"\"\n",
                "        # Set up nonnegative matrices of the correct shape\n",
                "        m, n = np.shape(V)\n",
                "        self.initialize_matrices(m,n)\n",
                "        W = cp.Variable((m, self.k), nonneg=True)\n",
                "        H = cp.Variable((self.k, n), nonneg=True)\n",
                "    \n",
                "        while True:\n",
                "            # Define objective to solve for W\n",
                "            obj = cp.Minimize(cp.norm(V - W @ self.H, \"fro\"))\n",
                "            prob = cp.Problem(objective=obj)\n",
                "            prob.solve()\n",
                "            oldW = self.W\n",
                "            self.W = W.value\n",
                "\n",
                "            # Define objective to solve for H\n",
                "            obj = cp.Minimize(cp.norm(V - self.W @ H, \"fro\"))\n",
                "            prob = cp.Problem(objective=obj)\n",
                "            prob.solve()\n",
                "            oldH = self.H\n",
                "            self.H = H.value\n",
                "\n",
                "            # See if the norm is low enough\n",
                "            if (np.linalg.norm(oldW - self.W, \"fro\") < self.tol and np.linalg.norm(oldH - self.H, \"fro\") < self.tol):\n",
                "                break\n",
                "\n",
                "\n",
                "    def reconstruct(self):\n",
                "        \"\"\"Reconstruct V matrix for comparison against the original V\"\"\"\n",
                "        return self.W @ self.H   # Reoncstruct and return V\n"
            ]
        },
        {
            "cell_type": "code",
            "execution_count": 91,
            "metadata": {},
            "outputs": [
                {
                    "name": "stdout",
                    "output_type": "stream",
                    "text": [
                        "[[0.8488177  0.17889592 0.05436321]\n",
                        " [0.36153845 0.27540093 0.53000022]]\n",
                        "[[0.30591892 0.30447436 0.11174128]\n",
                        " [0.24989901 0.9176299  0.26414685]\n",
                        " [0.71777369 0.86571503 0.80707948]]\n"
                    ]
                }
            ],
            "source": [
                "# Prob 1\n",
                "NMF = NMFRecommender()\n",
                "NMF.initialize_matrices(2, 3)\n",
                "print(NMF.W)\n",
                "print(NMF.H)"
            ]
        },
        {
            "cell_type": "code",
            "execution_count": 103,
            "metadata": {},
            "outputs": [
                {
                    "name": "stdout",
                    "output_type": "stream",
                    "text": [
                        "Reoncstructed V\n",
                        "[[1.75030991e-03 9.78621675e-01 4.49053638e-02 9.74447623e-01\n",
                        "  2.10812272e+00 1.90227867e+00]\n",
                        " [1.99642549e+00 2.84428317e+00 1.23253063e+00 8.71516107e-01\n",
                        "  2.06996039e+00 2.06398729e+00]\n",
                        " [1.00708073e+00 1.30872590e+00 5.38955262e-01 2.60536350e-01\n",
                        "  8.61120509e-01 8.73319205e-01]\n",
                        " [1.68443122e-04 2.00887148e+00 2.98656138e+00 4.00744150e+00\n",
                        "  9.94563078e-01 9.97921879e-01]\n",
                        " [2.25461795e-08 2.04847641e-01 8.26878080e-10 1.97971779e-01\n",
                        "  4.52629742e-01 4.08077284e-01]]\n"
                    ]
                }
            ],
            "source": [
                "V = np.array([[0, 1, 0, 1, 2, 2],\n",
                "              [2, 3, 1, 1, 2, 2],\n",
                "              [1, 1, 1, 0, 1, 1],\n",
                "              [0, 2, 3, 4, 1, 1],\n",
                "              [0, 0, 0, 0, 1, 0]])\n",
                "NMF = NMFRecommender()\n",
                "NMF.fit(V)\n",
                "print(\"Reoncstructed V\")\n",
                "print(NMF.reconstruct())"
            ]
        },
        {
            "cell_type": "code",
            "execution_count": 115,
            "metadata": {},
            "outputs": [
                {
                    "name": "stdout",
                    "output_type": "stream",
                    "text": [
                        "W\n",
                        "[[4.32357340e-01 1.55958368e+00]\n",
                        " [7.28830824e-01 2.67353753e+00]\n",
                        " [2.59497870e-01 1.23222299e+00]\n",
                        " [2.77133682e+00 7.42173394e-08]\n",
                        " [2.00262945e-09 3.68909407e-01]]\n",
                        "H\n",
                        "[[6.13701977e-08 7.26310744e-01 1.07593007e+00 1.44659281e+00\n",
                        "  3.52998322e-01 3.65555244e-01]\n",
                        " [5.85630624e-01 7.72185164e-01 6.58447872e-02 7.09874825e-09\n",
                        "  8.03647818e-01 7.67521958e-01]]\n",
                        "\n",
                        "4 people have higher weights in component 2 than 1\n"
                    ]
                }
            ],
            "source": [
                "def prob3():\n",
                "    \"\"\"Run NMF recommender on the grocery store example\"\"\"\n",
                "    V = np.array(\n",
                "        [\n",
                "            [0, 1, 0, 1, 2, 2],\n",
                "            [2, 3, 1, 1 ,2, 2],\n",
                "            [1, 1, 1, 0, 1, 1],\n",
                "            [0, 2, 3, 4, 1, 1],\n",
                "            [0, 0, 0, 0, 1, 0]\n",
                "        ]\n",
                "    )\n",
                "    NMF = NMFRecommender(rank=2)  # Create an instance\n",
                "    NMF.fit(V)   # Fit it\n",
                "\n",
                "    # Find the number of people with higher weights in compoment 2 than 1\n",
                "    num = 0\n",
                "    for i in range(len(NMF.H[0])):\n",
                "        if(NMF.H[1, i] > NMF.H[0, i]): num += 1\n",
                "\n",
                "    return NMF.W, NMF.H, num\n",
                "\n",
                "W, H, num = prob3()\n",
                "print(\"W\")\n",
                "print(W)\n",
                "print(\"H\")\n",
                "print(H)\n",
                "print()\n",
                "print(f\"{num} people have higher weights in component 2 than 1\")"
            ]
        },
        {
            "cell_type": "code",
            "execution_count": 3,
            "metadata": {},
            "outputs": [],
            "source": [
                "\n",
                "#get data\n",
                "def get_faces(path=\"./faces94\"):\n",
                "    \"\"\"Traverse the specified directory to obtain one image per subdirectory.\n",
                "    Flatten and convert each image to grayscale.\n",
                "\n",
                "    Parameters:\n",
                "        path (str): The directory containing the dataset of images.\n",
                "\n",
                "    Returns:\n",
                "        ((mn,k) ndarray) An array containing one column vector per\n",
                "            subdirectory. k is the number of people, and each original\n",
                "            image is mxn.\n",
                "    \"\"\"\n",
                "    # Traverse the directory and get one image per subdirectory.\n",
                "    faces = []\n",
                "    for (dirpath, dirnames, filenames) in os.walk(path):\n",
                "        for fname in filenames:\n",
                "            if fname[-3:]==\"jpg\":       # Only get jpg images.\n",
                "                # Load the image, convert it to grayscale,\n",
                "                # and flatten it into a vector.\n",
                "                faces.append(np.ravel(imread(dirpath+\"/\"+fname, as_gray=True)))\n",
                "                break\n",
                "    # Put all the face vectors column-wise into a matrix.\n",
                "    return np.transpose(faces)\n",
                "\n",
                "def show(image, m=200, n=180, plt_show=False):\n",
                "    \"\"\"Plot the flattened grayscale 'image' of width 'w' and height 'h'.\n",
                "\n",
                "    Parameters:\n",
                "        image ((mn,) ndarray): A flattened image.\n",
                "        m (int): The original number of rows in the image.\n",
                "        n (int): The original number of columns in the image.\n",
                "        plt_show (bool): if True, call plt.show() at the end\n",
                "    \"\"\"\n",
                "    #scale image\n",
                "    image = image / 255\n",
                "    #reshape image\n",
                "    image = np.reshape(image,(m,n))\n",
                "    #show image\n",
                "    plt.imshow(image,cmap = \"gray\")\n",
                "    \n",
                "    if plt_show:\n",
                "        plt.show()\n"
            ]
        },
        {
            "cell_type": "code",
            "execution_count": 4,
            "metadata": {},
            "outputs": [],
            "source": [
                "def prob4():\n",
                "    \"\"\"\n",
                "        Gridsearch over rank, alpha and l1_ratio values to reconstruct \n",
                "        image using NMF. Plot all reconstructed images.\n",
                "    \"\"\"\n",
                "    raise NotImplementedError(\"Problem 3 incomplete\")\n"
            ]
        },
        {
            "cell_type": "code",
            "execution_count": null,
            "metadata": {},
            "outputs": [],
            "source": [
                "def prob5():\n",
                "    '''\n",
                "        find the 10 basis faces with the largest coefficients \n",
                "        corresponding to the the second and twelfth face in the dataset. \n",
                "        Plot these basis faces along with the original image using \n",
                "        subplots\n",
                "    '''\n",
                "    raise NotImplementedError(\"Problem 4 incomplete\")"
            ]
        }
    ],
    "metadata": {
        "interpreter": {
            "hash": "916dbcbb3f70747c44a77c7bcd40155683ae19c65e1c03b4aa3499c5328201f1"
        },
        "kernelspec": {
            "display_name": "Python 3.8.10 64-bit",
            "name": "python3"
        },
        "language_info": {
            "codemirror_mode": {
                "name": "ipython",
                "version": 3
            },
            "file_extension": ".py",
            "mimetype": "text/x-python",
            "name": "python",
            "nbconvert_exporter": "python",
            "pygments_lexer": "ipython3",
            "version": "3.10.12"
        },
        "orig_nbformat": 4
    },
    "nbformat": 4,
    "nbformat_minor": 2
}
